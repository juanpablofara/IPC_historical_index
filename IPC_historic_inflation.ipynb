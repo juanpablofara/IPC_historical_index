{
 "cells": [
  {
   "cell_type": "code",
   "execution_count": 33,
   "id": "8a438021-d7f9-4ffa-ba5f-e20d8bbaca98",
   "metadata": {},
   "outputs": [
    {
     "name": "stdout",
     "output_type": "stream",
     "text": [
      "    indice_tiempo  nivel_general\n",
      "0      1943-01-01   2.050490e-12\n",
      "1      1943-02-01   2.038620e-12\n",
      "2      1943-03-01   2.070780e-12\n",
      "3      1943-04-01   2.084520e-12\n",
      "4      1943-05-01   2.066410e-12\n",
      "..            ...            ...\n",
      "779    2007-12-01   2.024900e+02\n",
      "780    2008-01-01   2.043700e+02\n",
      "781    2008-02-01   2.053300e+02\n",
      "782    2008-03-01   2.076500e+02\n",
      "783    2008-04-01   2.093700e+02\n",
      "\n",
      "[784 rows x 2 columns]\n"
     ]
    }
   ],
   "source": [
    "import pandas as pd\n",
    "\n",
    "# Cargar el archivo CSV\n",
    "archivo_csv = 'ipc-historico.csv'\n",
    "\n",
    "# Leer el archivo CSV\n",
    "data = pd.read_csv(archivo_csv)\n",
    "\n",
    "# Extraer primeras dos columnas\n",
    "columnas_extraidas = data.iloc[:, :2]\n",
    "\n",
    "# Mostrar las columnas extraídas\n",
    "print(columnas_extraidas)\n",
    "\n",
    "# Guardamos archivo en otro archivo CSV\n",
    "columnas_extraidas.to_csv('ipc-historico-columnas.csv', index=False)\n"
   ]
  },
  {
   "cell_type": "code",
   "execution_count": 35,
   "id": "aeecd3c8-2d1e-4939-920b-15d082d722fa",
   "metadata": {},
   "outputs": [
    {
     "name": "stdout",
     "output_type": "stream",
     "text": [
      "    indice_tiempo  nivel_general\n",
      "0      1943-01-01   2.050490e-12\n",
      "1      1943-02-01   2.038620e-12\n",
      "2      1943-03-01   2.070780e-12\n",
      "3      1943-04-01   2.084520e-12\n",
      "4      1943-05-01   2.066410e-12\n",
      "..            ...            ...\n",
      "779    2007-12-01   2.024900e+02\n",
      "780    2008-01-01   2.043700e+02\n",
      "781    2008-02-01   2.053300e+02\n",
      "782    2008-03-01   2.076500e+02\n",
      "783    2008-04-01   2.093700e+02\n",
      "\n",
      "[784 rows x 2 columns]\n"
     ]
    }
   ],
   "source": [
    "import pandas as pd\n",
    "\n",
    "# Cargar el archivo CSV\n",
    "archivo_csv = 'ipc-historico-columnas.csv'\n",
    "\n",
    "# Leer el archivo CSV\n",
    "df = pd.read_csv(archivo_csv)\n",
    "\n",
    "print(df)\n"
   ]
  },
  {
   "cell_type": "code",
   "execution_count": 37,
   "id": "21cc69a6-844a-47ea-9075-2325ab888384",
   "metadata": {},
   "outputs": [],
   "source": [
    "# Calcular la inflación intermensual\n",
    "df['inflacion_intermensual'] = df['nivel_general'].pct_change() * 100"
   ]
  },
  {
   "cell_type": "code",
   "execution_count": 39,
   "id": "7ca6e7ed-5fdd-45ac-9074-ee0a056ded9b",
   "metadata": {},
   "outputs": [
    {
     "name": "stdout",
     "output_type": "stream",
     "text": [
      "    indice_tiempo  nivel_general  inflacion_intermensual\n",
      "0      1943-01-01   2.050490e-12                     NaN\n",
      "1      1943-02-01   2.038620e-12               -0.578886\n",
      "2      1943-03-01   2.070780e-12                1.577538\n",
      "3      1943-04-01   2.084520e-12                0.663518\n",
      "4      1943-05-01   2.066410e-12               -0.868785\n",
      "..            ...            ...                     ...\n",
      "779    2007-12-01   2.024900e+02                0.927080\n",
      "780    2008-01-01   2.043700e+02                0.928441\n",
      "781    2008-02-01   2.053300e+02                0.469736\n",
      "782    2008-03-01   2.076500e+02                1.129888\n",
      "783    2008-04-01   2.093700e+02                0.828317\n",
      "\n",
      "[784 rows x 3 columns]\n"
     ]
    }
   ],
   "source": [
    "print(df)"
   ]
  },
  {
   "cell_type": "code",
   "execution_count": 41,
   "id": "153aac29-3b83-45da-889b-4c5bb8d92101",
   "metadata": {},
   "outputs": [
    {
     "name": "stdout",
     "output_type": "stream",
     "text": [
      "    indice_tiempo  nivel_general  inflacion_intermensual  inflacion_interanual\n",
      "0      1943-01-01   2.050490e-12                     NaN                   NaN\n",
      "1      1943-02-01   2.038620e-12               -0.578886                   NaN\n",
      "2      1943-03-01   2.070780e-12                1.577538                   NaN\n",
      "3      1943-04-01   2.084520e-12                0.663518                   NaN\n",
      "4      1943-05-01   2.066410e-12               -0.868785                   NaN\n",
      "..            ...            ...                     ...                   ...\n",
      "779    2007-12-01   2.024900e+02                0.927080              8.474849\n",
      "780    2008-01-01   2.043700e+02                0.928441              8.241089\n",
      "781    2008-02-01   2.053300e+02                0.469736              8.422220\n",
      "782    2008-03-01   2.076500e+02                1.129888              8.814128\n",
      "783    2008-04-01   2.093700e+02                0.828317              8.905072\n",
      "\n",
      "[784 rows x 4 columns]\n"
     ]
    }
   ],
   "source": [
    "# Calcular la inflación interanual\n",
    "df['inflacion_interanual'] = (df['nivel_general'] / df['nivel_general'].shift(12) - 1) * 100\n",
    "\n",
    "print(df)"
   ]
  },
  {
   "cell_type": "code",
   "execution_count": 43,
   "id": "3b28948b-7185-4b2a-a08c-9ddec4cf0b7b",
   "metadata": {},
   "outputs": [
    {
     "name": "stdout",
     "output_type": "stream",
     "text": [
      "    indice_tiempo  nivel_general  inflacion_intermensual  \\\n",
      "0      1943-01-01   2.050490e-12                     NaN   \n",
      "1      1943-02-01   2.038620e-12               -0.578886   \n",
      "2      1943-03-01   2.070780e-12                1.577538   \n",
      "3      1943-04-01   2.084520e-12                0.663518   \n",
      "4      1943-05-01   2.066410e-12               -0.868785   \n",
      "..            ...            ...                     ...   \n",
      "779    2007-12-01   2.024900e+02                0.927080   \n",
      "780    2008-01-01   2.043700e+02                0.928441   \n",
      "781    2008-02-01   2.053300e+02                0.469736   \n",
      "782    2008-03-01   2.076500e+02                1.129888   \n",
      "783    2008-04-01   2.093700e+02                0.828317   \n",
      "\n",
      "     inflacion_interanual   año  inflacion_acumulada  \n",
      "0                     NaN  1943             0.000000  \n",
      "1                     NaN  1943            -0.578886  \n",
      "2                     NaN  1943             0.989520  \n",
      "3                     NaN  1943             1.659603  \n",
      "4                     NaN  1943             0.776400  \n",
      "..                    ...   ...                  ...  \n",
      "779              8.474849  2007             7.245379  \n",
      "780              8.241089  2008             0.000000  \n",
      "781              8.422220  2008             0.469736  \n",
      "782              8.814128  2008             1.604932  \n",
      "783              8.905072  2008             2.446543  \n",
      "\n",
      "[784 rows x 6 columns]\n"
     ]
    }
   ],
   "source": [
    "# Convertir las fechas a tipo datetime\n",
    "df['indice_tiempo'] = pd.to_datetime(df['indice_tiempo'])\n",
    "\n",
    "# Extraer el año como una columna separada\n",
    "df['año'] = df['indice_tiempo'].dt.year\n",
    "\n",
    "# Calcular la inflación acumulada dentro de cada año\n",
    "df['inflacion_acumulada'] = (\n",
    "    df.groupby('año')['nivel_general']  # Operar solo sobre la columna nivel_general\n",
    "    .apply(lambda grupo: (grupo / grupo.iloc[0] - 1) * 100)  # Cálculo de inflación acumulada\n",
    "    .reset_index(level=0, drop=True)  # Ajustar el índice al final\n",
    ")\n",
    "\n",
    "print(df)"
   ]
  },
  {
   "cell_type": "code",
   "execution_count": 45,
   "id": "c97b69b3-0cd9-4083-a1e5-1335cb9513e3",
   "metadata": {},
   "outputs": [
    {
     "name": "stdout",
     "output_type": "stream",
     "text": [
      "    indice_tiempo  nivel_general  inflacion_intermensual  \\\n",
      "0      1943-01-01   2.050490e-12                     NaN   \n",
      "1      1943-02-01   2.038620e-12               -0.578886   \n",
      "2      1943-03-01   2.070780e-12                1.577538   \n",
      "3      1943-04-01   2.084520e-12                0.663518   \n",
      "4      1943-05-01   2.066410e-12               -0.868785   \n",
      "..            ...            ...                     ...   \n",
      "779    2007-12-01   2.024900e+02                0.927080   \n",
      "780    2008-01-01   2.043700e+02                0.928441   \n",
      "781    2008-02-01   2.053300e+02                0.469736   \n",
      "782    2008-03-01   2.076500e+02                1.129888   \n",
      "783    2008-04-01   2.093700e+02                0.828317   \n",
      "\n",
      "     inflacion_interanual   año  inflacion_acumulada  \n",
      "0                     NaN  1943             0.000000  \n",
      "1                     NaN  1943            -0.578886  \n",
      "2                     NaN  1943             0.989520  \n",
      "3                     NaN  1943             1.659603  \n",
      "4                     NaN  1943             0.776400  \n",
      "..                    ...   ...                  ...  \n",
      "779              8.474849  2007             7.245379  \n",
      "780              8.241089  2008             0.000000  \n",
      "781              8.422220  2008             0.469736  \n",
      "782              8.814128  2008             1.604932  \n",
      "783              8.905072  2008             2.446543  \n",
      "\n",
      "[784 rows x 6 columns]\n"
     ]
    }
   ],
   "source": [
    "print(df)"
   ]
  },
  {
   "cell_type": "code",
   "execution_count": 47,
   "id": "e15724a0-dad0-4a36-89c6-823250312e3c",
   "metadata": {},
   "outputs": [
    {
     "name": "stdout",
     "output_type": "stream",
     "text": [
      "    indice_tiempo  nivel_general  inflacion_intermensual  \\\n",
      "0      1943-01-01   2.050490e-12                     NaN   \n",
      "1      1943-02-01   2.038620e-12               -0.578886   \n",
      "2      1943-03-01   2.070780e-12                1.577538   \n",
      "3      1943-04-01   2.084520e-12                0.663518   \n",
      "4      1943-05-01   2.066410e-12               -0.868785   \n",
      "..            ...            ...                     ...   \n",
      "779    2007-12-01   2.024900e+02                0.927080   \n",
      "780    2008-01-01   2.043700e+02                0.928441   \n",
      "781    2008-02-01   2.053300e+02                0.469736   \n",
      "782    2008-03-01   2.076500e+02                1.129888   \n",
      "783    2008-04-01   2.093700e+02                0.828317   \n",
      "\n",
      "     inflacion_interanual   año  inflacion_acumulada  inflacion_anualizada  \n",
      "0                     NaN  1943             0.000000                   NaN  \n",
      "1                     NaN  1943            -0.578886             -6.729673  \n",
      "2                     NaN  1943             0.989520             20.662460  \n",
      "3                     NaN  1943             1.659603              8.259310  \n",
      "4                     NaN  1943             0.776400             -9.941410  \n",
      "..                    ...   ...                  ...                   ...  \n",
      "779              8.474849  2007             7.245379             11.710112  \n",
      "780              8.241089  2008             0.000000             11.728193  \n",
      "781              8.422220  2008             0.469736              5.784770  \n",
      "782              8.814128  2008             1.604932             14.433805  \n",
      "783              8.905072  2008             2.446543             10.405373  \n",
      "\n",
      "[784 rows x 7 columns]\n"
     ]
    }
   ],
   "source": [
    "# Calcular la inflación anualizada basada en la inflación intermensual\n",
    "df['inflacion_anualizada'] = ((1 + df['inflacion_intermensual'] / 100) ** 12 - 1) * 100\n",
    "\n",
    "print(df)"
   ]
  },
  {
   "cell_type": "code",
   "execution_count": 49,
   "id": "393a48d2-49e1-4a87-b57f-8591588a00a2",
   "metadata": {},
   "outputs": [
    {
     "name": "stdout",
     "output_type": "stream",
     "text": [
      "    indice_tiempo  nivel_general  inflacion_intermensual  \\\n",
      "0      1943-01-01   2.050490e-12                     NaN   \n",
      "1      1943-02-01   2.038620e-12               -0.578886   \n",
      "2      1943-03-01   2.070780e-12                1.577538   \n",
      "3      1943-04-01   2.084520e-12                0.663518   \n",
      "4      1943-05-01   2.066410e-12               -0.868785   \n",
      "..            ...            ...                     ...   \n",
      "779    2007-12-01   2.024900e+02                0.927080   \n",
      "780    2008-01-01   2.043700e+02                0.928441   \n",
      "781    2008-02-01   2.053300e+02                0.469736   \n",
      "782    2008-03-01   2.076500e+02                1.129888   \n",
      "783    2008-04-01   2.093700e+02                0.828317   \n",
      "\n",
      "     inflacion_interanual   año  inflacion_acumulada  inflacion_anualizada  \n",
      "0                     NaN  1943             0.000000                   NaN  \n",
      "1                     NaN  1943            -0.578886             -6.729673  \n",
      "2                     NaN  1943             0.989520             20.662460  \n",
      "3                     NaN  1943             1.659603              8.259310  \n",
      "4                     NaN  1943             0.776400             -9.941410  \n",
      "..                    ...   ...                  ...                   ...  \n",
      "779              8.474849  2007             7.245379             11.710112  \n",
      "780              8.241089  2008             0.000000             11.728193  \n",
      "781              8.422220  2008             0.469736              5.784770  \n",
      "782              8.814128  2008             1.604932             14.433805  \n",
      "783              8.905072  2008             2.446543             10.405373  \n",
      "\n",
      "[784 rows x 7 columns]\n"
     ]
    }
   ],
   "source": [
    "print(df)"
   ]
  },
  {
   "cell_type": "code",
   "execution_count": 51,
   "id": "03f657dd-22b8-4959-a17a-5210ee1f0dce",
   "metadata": {},
   "outputs": [
    {
     "name": "stdout",
     "output_type": "stream",
     "text": [
      "    indice_tiempo  nivel_general  inflacion_intermensual  \\\n",
      "0      1943-01-01   2.050490e-12                     NaN   \n",
      "1      1943-02-01   2.038620e-12               -0.578886   \n",
      "2      1943-03-01   2.070780e-12                1.577538   \n",
      "3      1943-04-01   2.084520e-12                0.663518   \n",
      "4      1943-05-01   2.066410e-12               -0.868785   \n",
      "..            ...            ...                     ...   \n",
      "779    2007-12-01   2.024900e+02                0.927080   \n",
      "780    2008-01-01   2.043700e+02                0.928441   \n",
      "781    2008-02-01   2.053300e+02                0.469736   \n",
      "782    2008-03-01   2.076500e+02                1.129888   \n",
      "783    2008-04-01   2.093700e+02                0.828317   \n",
      "\n",
      "     inflacion_interanual   año  inflacion_acumulada  inflacion_anualizada  \\\n",
      "0                     NaN  1943             0.000000                   NaN   \n",
      "1                     NaN  1943            -0.578886             -6.729673   \n",
      "2                     NaN  1943             0.989520             20.662460   \n",
      "3                     NaN  1943             1.659603              8.259310   \n",
      "4                     NaN  1943             0.776400             -9.941410   \n",
      "..                    ...   ...                  ...                   ...   \n",
      "779              8.474849  2007             7.245379             11.710112   \n",
      "780              8.241089  2008             0.000000             11.728193   \n",
      "781              8.422220  2008             0.469736              5.784770   \n",
      "782              8.814128  2008             1.604932             14.433805   \n",
      "783              8.905072  2008             2.446543             10.405373   \n",
      "\n",
      "     inflacion_intertrimestral  \n",
      "0                          NaN  \n",
      "1                          NaN  \n",
      "2                          NaN  \n",
      "3                     1.659603  \n",
      "4                     1.363177  \n",
      "..                         ...  \n",
      "779                   2.485069  \n",
      "780                   2.734630  \n",
      "781                   2.342621  \n",
      "782                   2.548274  \n",
      "783                   2.446543  \n",
      "\n",
      "[784 rows x 8 columns]\n"
     ]
    }
   ],
   "source": [
    "# Calcular la inflación intertrimestral\n",
    "df['inflacion_intertrimestral'] = (df['nivel_general'] / df['nivel_general'].shift(3) - 1) * 100\n",
    "\n",
    "print(df)"
   ]
  },
  {
   "cell_type": "code",
   "execution_count": 53,
   "id": "afb7b435-a617-4ac0-a8dd-dbe7368a9e71",
   "metadata": {},
   "outputs": [
    {
     "name": "stdout",
     "output_type": "stream",
     "text": [
      "    indice_tiempo  nivel_general  inflacion_intermensual  \\\n",
      "0      1943-01-01   2.050490e-12                     NaN   \n",
      "1      1943-02-01   2.038620e-12               -0.578886   \n",
      "2      1943-03-01   2.070780e-12                1.577538   \n",
      "3      1943-04-01   2.084520e-12                0.663518   \n",
      "4      1943-05-01   2.066410e-12               -0.868785   \n",
      "..            ...            ...                     ...   \n",
      "779    2007-12-01   2.024900e+02                0.927080   \n",
      "780    2008-01-01   2.043700e+02                0.928441   \n",
      "781    2008-02-01   2.053300e+02                0.469736   \n",
      "782    2008-03-01   2.076500e+02                1.129888   \n",
      "783    2008-04-01   2.093700e+02                0.828317   \n",
      "\n",
      "     inflacion_interanual   año  inflacion_acumulada  inflacion_anualizada  \\\n",
      "0                     NaN  1943             0.000000                   NaN   \n",
      "1                     NaN  1943            -0.578886             -6.729673   \n",
      "2                     NaN  1943             0.989520             20.662460   \n",
      "3                     NaN  1943             1.659603              8.259310   \n",
      "4                     NaN  1943             0.776400             -9.941410   \n",
      "..                    ...   ...                  ...                   ...   \n",
      "779              8.474849  2007             7.245379             11.710112   \n",
      "780              8.241089  2008             0.000000             11.728193   \n",
      "781              8.422220  2008             0.469736              5.784770   \n",
      "782              8.814128  2008             1.604932             14.433805   \n",
      "783              8.905072  2008             2.446543             10.405373   \n",
      "\n",
      "     inflacion_intertrimestral  inflacion_intercuatrimestral  \n",
      "0                          NaN                           NaN  \n",
      "1                          NaN                           NaN  \n",
      "2                          NaN                           NaN  \n",
      "3                     1.659603                           NaN  \n",
      "4                     1.363177                      0.776400  \n",
      "..                         ...                           ...  \n",
      "779                   2.485069                      3.305954  \n",
      "780                   2.734630                      3.436583  \n",
      "781                   2.342621                      3.217212  \n",
      "782                   2.548274                      3.498978  \n",
      "783                   2.446543                      3.397699  \n",
      "\n",
      "[784 rows x 9 columns]\n"
     ]
    }
   ],
   "source": [
    "# Calcular la inflación intercuatrimestral\n",
    "df['inflacion_intercuatrimestral'] = (df['nivel_general'] / df['nivel_general'].shift(4) - 1) * 100\n",
    "\n",
    "print(df)"
   ]
  },
  {
   "cell_type": "code",
   "execution_count": 55,
   "id": "ad36435c-0054-464f-8de7-512dcea6e620",
   "metadata": {},
   "outputs": [
    {
     "name": "stdout",
     "output_type": "stream",
     "text": [
      "    indice_tiempo  nivel_general  inflacion_intermensual  \\\n",
      "0      1943-01-01   2.050490e-12                     NaN   \n",
      "1      1943-02-01   2.038620e-12               -0.578886   \n",
      "2      1943-03-01   2.070780e-12                1.577538   \n",
      "3      1943-04-01   2.084520e-12                0.663518   \n",
      "4      1943-05-01   2.066410e-12               -0.868785   \n",
      "..            ...            ...                     ...   \n",
      "779    2007-12-01   2.024900e+02                0.927080   \n",
      "780    2008-01-01   2.043700e+02                0.928441   \n",
      "781    2008-02-01   2.053300e+02                0.469736   \n",
      "782    2008-03-01   2.076500e+02                1.129888   \n",
      "783    2008-04-01   2.093700e+02                0.828317   \n",
      "\n",
      "     inflacion_interanual   año  inflacion_acumulada  inflacion_anualizada  \\\n",
      "0                     NaN  1943             0.000000                   NaN   \n",
      "1                     NaN  1943            -0.578886             -6.729673   \n",
      "2                     NaN  1943             0.989520             20.662460   \n",
      "3                     NaN  1943             1.659603              8.259310   \n",
      "4                     NaN  1943             0.776400             -9.941410   \n",
      "..                    ...   ...                  ...                   ...   \n",
      "779              8.474849  2007             7.245379             11.710112   \n",
      "780              8.241089  2008             0.000000             11.728193   \n",
      "781              8.422220  2008             0.469736              5.784770   \n",
      "782              8.814128  2008             1.604932             14.433805   \n",
      "783              8.905072  2008             2.446543             10.405373   \n",
      "\n",
      "     inflacion_intertrimestral  inflacion_intercuatrimestral  \\\n",
      "0                          NaN                           NaN   \n",
      "1                          NaN                           NaN   \n",
      "2                          NaN                           NaN   \n",
      "3                     1.659603                           NaN   \n",
      "4                     1.363177                      0.776400   \n",
      "..                         ...                           ...   \n",
      "779                   2.485069                      3.305954   \n",
      "780                   2.734630                      3.436583   \n",
      "781                   2.342621                      3.217212   \n",
      "782                   2.548274                      3.498978   \n",
      "783                   2.446543                      3.397699   \n",
      "\n",
      "     inflacion_intersemestral  \n",
      "0                         NaN  \n",
      "1                         NaN  \n",
      "2                         NaN  \n",
      "3                         NaN  \n",
      "4                         NaN  \n",
      "..                        ...  \n",
      "779                  4.430119  \n",
      "780                  4.875045  \n",
      "781                  4.754859  \n",
      "782                  5.096670  \n",
      "783                  5.248077  \n",
      "\n",
      "[784 rows x 10 columns]\n"
     ]
    }
   ],
   "source": [
    "# Calcular la inflación intersemestral\n",
    "df['inflacion_intersemestral'] = (df['nivel_general'] / df['nivel_general'].shift(6) - 1) * 100\n",
    "\n",
    "print(df)"
   ]
  },
  {
   "cell_type": "code",
   "execution_count": 31,
   "id": "1fbe9f4c-5407-4013-a999-56a7596dedbd",
   "metadata": {},
   "outputs": [
    {
     "name": "stdout",
     "output_type": "stream",
     "text": [
      "El DataFrame actualizado se ha exportado como 'ipc_historico_datos_inlfacion.csv'.\n",
      "    indice_tiempo  nivel_general  inflacion_intermensual  \\\n",
      "0      1943-01-01   2.050490e-12                     NaN   \n",
      "1      1943-02-01   2.038620e-12               -0.578886   \n",
      "2      1943-03-01   2.070780e-12                1.577538   \n",
      "3      1943-04-01   2.084520e-12                0.663518   \n",
      "4      1943-05-01   2.066410e-12               -0.868785   \n",
      "..            ...            ...                     ...   \n",
      "779    2007-12-01   2.024900e+02                0.927080   \n",
      "780    2008-01-01   2.043700e+02                0.928441   \n",
      "781    2008-02-01   2.053300e+02                0.469736   \n",
      "782    2008-03-01   2.076500e+02                1.129888   \n",
      "783    2008-04-01   2.093700e+02                0.828317   \n",
      "\n",
      "     inflacion_interanual   año  inflacion_acumulada  inflacion_anualizada  \\\n",
      "0                     NaN  1943             0.000000                   NaN   \n",
      "1                     NaN  1943            -0.578886             -6.729673   \n",
      "2                     NaN  1943             0.989520             20.662460   \n",
      "3                     NaN  1943             1.659603              8.259310   \n",
      "4                     NaN  1943             0.776400             -9.941410   \n",
      "..                    ...   ...                  ...                   ...   \n",
      "779              8.474849  2007             7.245379             11.710112   \n",
      "780              8.241089  2008             0.000000             11.728193   \n",
      "781              8.422220  2008             0.469736              5.784770   \n",
      "782              8.814128  2008             1.604932             14.433805   \n",
      "783              8.905072  2008             2.446543             10.405373   \n",
      "\n",
      "     inflacion_intertrimestral  inflacion_intercuatrimestral  \\\n",
      "0                          NaN                           NaN   \n",
      "1                          NaN                           NaN   \n",
      "2                          NaN                           NaN   \n",
      "3                     1.659603                           NaN   \n",
      "4                     1.363177                      0.776400   \n",
      "..                         ...                           ...   \n",
      "779                   2.485069                      3.305954   \n",
      "780                   2.734630                      3.436583   \n",
      "781                   2.342621                      3.217212   \n",
      "782                   2.548274                      3.498978   \n",
      "783                   2.446543                      3.397699   \n",
      "\n",
      "     inflacion_intersemestral  \n",
      "0                         NaN  \n",
      "1                         NaN  \n",
      "2                         NaN  \n",
      "3                         NaN  \n",
      "4                         NaN  \n",
      "..                        ...  \n",
      "779                  4.430119  \n",
      "780                  4.875045  \n",
      "781                  4.754859  \n",
      "782                  5.096670  \n",
      "783                  5.248077  \n",
      "\n",
      "[784 rows x 10 columns]\n"
     ]
    }
   ],
   "source": [
    "# Exportar el DataFrame actualizado a un archivo CSV\n",
    "output_file = \"ipc_historico_datos_inlfacion.csv\"\n",
    "df.to_csv(output_file, index=False)\n",
    "\n",
    "print(f\"El DataFrame actualizado se ha exportado como '{output_file}'.\")\n",
    "\n",
    "print(df)"
   ]
  },
  {
   "cell_type": "code",
   "execution_count": null,
   "id": "644d8127-fb22-4e03-8def-a56938564716",
   "metadata": {},
   "outputs": [],
   "source": []
  }
 ],
 "metadata": {
  "kernelspec": {
   "display_name": "Python [conda env:base] *",
   "language": "python",
   "name": "conda-base-py"
  },
  "language_info": {
   "codemirror_mode": {
    "name": "ipython",
    "version": 3
   },
   "file_extension": ".py",
   "mimetype": "text/x-python",
   "name": "python",
   "nbconvert_exporter": "python",
   "pygments_lexer": "ipython3",
   "version": "3.12.7"
  }
 },
 "nbformat": 4,
 "nbformat_minor": 5
}
